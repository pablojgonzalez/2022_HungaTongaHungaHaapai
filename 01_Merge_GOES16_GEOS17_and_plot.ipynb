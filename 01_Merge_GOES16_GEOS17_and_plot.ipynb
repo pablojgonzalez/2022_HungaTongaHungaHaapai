{
 "cells": [
  {
   "cell_type": "markdown",
   "id": "ff938f4d",
   "metadata": {},
   "source": [
    "# Training: Python and GOES-R Imagery: Projections\n",
    "\n",
    "Used this link as example to merge the GOES data for the Tonga eruption\n",
    "https://geonetcast.wordpress.com/2019/08/02/goes-16-goes-17-plot-with-cartopy/\n",
    "\n",
    "\n",
    "If you use this in a scientific paper, we will appreciate a citation to the paper:\n",
    "\n",
    "Omira, R., Ramalho, R.S., Kim, J., Gonzalez, P.J., Kadri, U., Miranda, J.M., Carrilho, F., Baptista, M.A., (2022) Global Tonga tsunami explained by a fast-moving atmospheric source. *Nature*, doi:[10.1038/s41586-022-04926-4](https://doi.org/10.1038/s41586-022-04926-4)."
   ]
  },
  {
   "cell_type": "code",
   "execution_count": null,
   "id": "a67e4f78",
   "metadata": {
    "scrolled": false
   },
   "outputs": [],
   "source": [
    "# Required modules\n",
    "from netCDF4 import Dataset                # Read / Write NetCDF4 files\n",
    "import matplotlib.pyplot as plt            # Plotting library\n",
    "import numpy as np                         # Scientific computing with Python\n",
    "import cartopy, cartopy.crs as ccrs        # Plot maps\n",
    "from datetime import datetime, timedelta   # Library to convert julian day to dd-mm-yyyy\n",
    "import glob\n",
    "\n",
    "files=glob.glob(\"OR_ABI-L2-CMIPF-M6C13_G16_s*\")\n",
    "for i in range(len(files)-1):\n",
    "    fechahora1=files[i+1][27:39]\n",
    "    fechahora2=files[i][27:39]\n",
    "    \n",
    "    # Open the GOES-16 image\n",
    "    file1 = Dataset(\"OR_ABI-L2-CMIPF-M6C13_G16_s\"+fechahora1+\".nc\")\n",
    "    file1b = Dataset(\"OR_ABI-L2-CMIPF-M6C13_G16_s\"+fechahora2+\".nc\")\n",
    "    # Get the pixel values\n",
    "    #data1 = file1.variables['CMI'][:,:] - 273.15\n",
    "    data1 = (file1.variables['CMI'][:,:] - 273.15) - (file1b.variables['CMI'][:,:] - 273.15)\n",
    "    # The projection x and y coordinates equals the scanning angle (in radians) multiplied by the satellite height\n",
    "    sat_h = file1.variables['goes_imager_projection'].perspective_point_height\n",
    "    x1 = file1.variables['x'][:] * sat_h\n",
    "    y1 = file1.variables['y'][:] * sat_h\n",
    "    # Define the image extent\n",
    "    img_extent_1 = (x1.min(), x1.max(), y1.min(), y1.max())\n",
    "     \n",
    "    # Open the GOES-17 image\n",
    "    file2 = Dataset(\"OR_ABI-L2-CMIPF-M6C13_G17_s\"+fechahora1+\".nc\")\n",
    "    file2b = Dataset(\"OR_ABI-L2-CMIPF-M6C13_G17_s\"+fechahora2+\".nc\")\n",
    "    # Get the pixel values\n",
    "    #data2 = file2.variables['CMI'][:,0:4000] - 273.15\n",
    "    data2 = (file2.variables['CMI'][:,0:4000] - 273.15) - (file2b.variables['CMI'][:,0:4000] - 273.15)\n",
    "    # The projection x and y coordinates equals the scanning angle (in radians) multiplied by the satellite height\n",
    "    sat_h = file2.variables['goes_imager_projection'].perspective_point_height\n",
    "    x2 = file2.variables['x'][0:4000] * sat_h\n",
    "    y2 = file2.variables['y'][:] * sat_h\n",
    "    # Define the image extent\n",
    "    img_extent_2 = (x2.min(), x2.max(), y2.min(), y2.max())\n",
    " \n",
    "    # Choose the plot size (width x height, in inches)\n",
    "    #plt.figure(figsize=(7,7))\n",
    "    cm = 1/2.54  # centimeters in inches\n",
    "    plt.figure(figsize=(30*cm, 30*cm)) # in cm\n",
    "\n",
    "    # Plot definition\n",
    "    ax = plt.axes(projection=ccrs.PlateCarree(central_longitude=-103.3))#, globe=globe))\n",
    "    ax.set_extent([-222.0, 10.0, -90.0, 90.0], crs=ccrs.PlateCarree())\n",
    "    # Add a background image\n",
    "    ax.stock_img()\n",
    "    # Add coastlines, borders and gridlines\n",
    "    ax.coastlines(resolution='10m', color='black', linewidth=0.8)\n",
    "    ax.add_feature(cartopy.feature.BORDERS, edgecolor='black', linewidth=0.5)\n",
    "    ax.gridlines(color='gray', alpha=0.5, linestyle='--', linewidth=0.5)\n",
    "    # Plot the image (cmap='magma' cmap='Greys' -2:2 and -5:5)\n",
    "    img = ax.imshow(data1, vmin=-1, vmax=1, origin='upper', extent=img_extent_1, cmap='magma', transform=ccrs.Geostationary(central_longitude=-75.0, satellite_height=35786023.0))\n",
    "    img = ax.imshow(data2, vmin=-1, vmax=1, origin='upper', extent=img_extent_2, cmap='magma', transform=ccrs.Geostationary(central_longitude=-137.0, satellite_height=35786023.0))     \n",
    "    # Add a colorbar\n",
    "    plt.colorbar(img, label='Brightness Temperatures (°C)', extend='both', orientation='horizontal', pad=0.05, fraction=0.05)\n",
    " \n",
    "    # Getting the file date\n",
    "    add_seconds = int(file2.variables['time_bounds'][0])\n",
    "    date = datetime(2000,1,1,12) + timedelta(seconds=add_seconds)\n",
    "    date = date.strftime('%d %B %Y %H:%M UTC')\n",
    " \n",
    "    # Add a title\n",
    "    plt.title('GOES-16 and GOES-17 Band 13', fontweight='bold', fontsize=10, loc='left')\n",
    "    plt.title('Full Disk \\n' + date, fontsize=10, loc='right')\n",
    "     \n",
    "    # Save the image\n",
    "    plt.savefig('Image_G16_G17_'+fechahora1+'_'+fechahora2+'.png',transparent=False)\n",
    "    # Show the image\n",
    "    plt.show()"
   ]
  },
  {
   "cell_type": "code",
   "execution_count": null,
   "id": "5c1ce1b0",
   "metadata": {
    "scrolled": false
   },
   "outputs": [],
   "source": []
  },
  {
   "cell_type": "code",
   "execution_count": null,
   "id": "123d88c9",
   "metadata": {
    "scrolled": false
   },
   "outputs": [],
   "source": []
  }
 ],
 "metadata": {
  "kernelspec": {
   "display_name": "Python 3 (ipykernel)",
   "language": "python",
   "name": "python3"
  },
  "language_info": {
   "codemirror_mode": {
    "name": "ipython",
    "version": 3
   },
   "file_extension": ".py",
   "mimetype": "text/x-python",
   "name": "python",
   "nbconvert_exporter": "python",
   "pygments_lexer": "ipython3",
   "version": "3.8.12"
  }
 },
 "nbformat": 4,
 "nbformat_minor": 5
}
