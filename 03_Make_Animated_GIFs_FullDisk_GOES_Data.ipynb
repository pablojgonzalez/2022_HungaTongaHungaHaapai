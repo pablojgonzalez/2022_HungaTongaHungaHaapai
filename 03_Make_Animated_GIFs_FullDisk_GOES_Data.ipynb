{
 "cells": [
  {
   "cell_type": "markdown",
   "id": "afe2af72",
   "metadata": {},
   "source": [
    "# Make animated GIFs based on images of GOES IR channel images in selected folders\n",
    "\n",
    "This jupyter notebook makes animated GIFs based on images of GOES IR channel images saved in different folders. Edit the target folder where your images are stored. You can create your own images in .png file using the notebook ``01_Merge_GOES16_GEOS17_and_plot.ipynb`` file. After you create them, with your selected region and color palette, move them to a folder and then edit that folder name below.\n",
    "\n",
    "If you use this in a scientific paper, we will appreciate a citation to the paper:\n",
    "\n",
    "Omira, R., Ramalho, R.S., Kim, J., Gonzalez, P.J., Kadri, U., Miranda, J.M., Carrilho, F., Baptista, M.A., (2022) Global Tonga tsunami explained by a fast-moving atmospheric source. *Nature*, doi:[10.1038/s41586-022-04926-4](https://doi.org/10.1038/s41586-022-04926-4)."
   ]
  },
  {
   "cell_type": "code",
   "execution_count": 1,
   "id": "ed0486d1",
   "metadata": {},
   "outputs": [],
   "source": [
    "from PIL import Image\n",
    "import glob"
   ]
  },
  {
   "cell_type": "code",
   "execution_count": 5,
   "id": "6308006e",
   "metadata": {},
   "outputs": [],
   "source": [
    "frames = []\n",
    "for i in glob.glob(\"Fig_5degrees_10min_delay_grays/*.png\"):\n",
    "    frames.append(Image.open(i))\n",
    "# Save into a GIF that loops infinitely\n",
    "frames[0].save('Fig_GOES_5degrange_10min_delay_grays_animation.gif', \n",
    "               format='GIF', append_images=frames[1:],\n",
    "               save_all=True, duration=50, loop=0)"
   ]
  },
  {
   "cell_type": "code",
   "execution_count": 6,
   "id": "34b81b8d",
   "metadata": {},
   "outputs": [],
   "source": [
    "frames = []\n",
    "for i in glob.glob(\"Figs_2degrees_10min_delay_grays/*.png\"):\n",
    "    frames.append(Image.open(i))\n",
    "# Save into a GIF that loops infinitely\n",
    "frames[0].save('Fig_GOES_2degrange_10min_delay_grays_animation.gif', \n",
    "               format='GIF', append_images=frames[1:],\n",
    "               save_all=True, duration=50, loop=0)"
   ]
  },
  {
   "cell_type": "code",
   "execution_count": 7,
   "id": "1dcedf03",
   "metadata": {},
   "outputs": [],
   "source": [
    "frames = []\n",
    "for i in glob.glob(\"Figs_2degrees_10min_delay_magma/*.png\"):\n",
    "    frames.append(Image.open(i))\n",
    "# Save into a GIF that loops infinitely\n",
    "frames[0].save('Fig_GOES_2degrange_10min_delay_magma_animation.gif', \n",
    "               format='GIF', append_images=frames[1:],\n",
    "               save_all=True, duration=50, loop=0)"
   ]
  },
  {
   "cell_type": "code",
   "execution_count": 3,
   "id": "70158d4a",
   "metadata": {},
   "outputs": [],
   "source": [
    "frames = []\n",
    "for i in glob.glob(\"Fig_1degrees_10min_delay_grays/*.png\"):\n",
    "    frames.append(Image.open(i))\n",
    "# Save into a GIF that loops infinitely\n",
    "frames[0].save('Fig_GOES_1degrange_10min_delay_grays_animation.gif', \n",
    "               format='GIF', append_images=frames[1:],\n",
    "               save_all=True, duration=50, loop=0)"
   ]
  },
  {
   "cell_type": "code",
   "execution_count": 4,
   "id": "79ec9456",
   "metadata": {},
   "outputs": [],
   "source": [
    "frames = []\n",
    "for i in glob.glob(\"Fig_1degrees_10min_delay_magma/*.png\"):\n",
    "    frames.append(Image.open(i))\n",
    "# Save into a GIF that loops infinitely\n",
    "frames[0].save('Fig_GOES_1degrange_10min_delay_magma_animation.gif', \n",
    "               format='GIF', append_images=frames[1:],\n",
    "               save_all=True, duration=50, loop=0)"
   ]
  },
  {
   "cell_type": "code",
   "execution_count": 4,
   "id": "af417426",
   "metadata": {},
   "outputs": [],
   "source": [
    "frames = []\n",
    "for i in glob.glob(\"Fig_1degrees_30min_delay_magma/*.png\"):\n",
    "    frames.append(Image.open(i))\n",
    "# Save into a GIF that loops infinitely\n",
    "frames[0].save('Fig_GOES_1degrange_30min_delay_magma_animation.gif', \n",
    "               format='GIF', append_images=frames[1:],\n",
    "               save_all=True, duration=50, loop=0)"
   ]
  },
  {
   "cell_type": "code",
   "execution_count": 3,
   "id": "bf7d27a4",
   "metadata": {},
   "outputs": [],
   "source": [
    "frames = []\n",
    "for i in glob.glob(\"ZoomExplosion_MixPalette_DifferentRegion/*.png\"):\n",
    "    frames.append(Image.open(i))\n",
    "# Save into a GIF that loops infinitely\n",
    "frames[0].save('Fig_Zoom_Explosion_animation_100.gif', \n",
    "               format='GIF', append_images=frames[1:],\n",
    "               save_all=True, duration=100, loop=0)"
   ]
  },
  {
   "cell_type": "code",
   "execution_count": null,
   "id": "047b142b",
   "metadata": {},
   "outputs": [],
   "source": []
  }
 ],
 "metadata": {
  "kernelspec": {
   "display_name": "Python 3 (ipykernel)",
   "language": "python",
   "name": "python3"
  },
  "language_info": {
   "codemirror_mode": {
    "name": "ipython",
    "version": 3
   },
   "file_extension": ".py",
   "mimetype": "text/x-python",
   "name": "python",
   "nbconvert_exporter": "python",
   "pygments_lexer": "ipython3",
   "version": "3.8.12"
  }
 },
 "nbformat": 4,
 "nbformat_minor": 5
}
